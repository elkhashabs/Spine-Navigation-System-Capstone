{
 "cells": [
  {
   "cell_type": "code",
   "execution_count": 154,
   "metadata": {},
   "outputs": [],
   "source": [
    "import time\n",
    "start = time.time()\n",
    "\n",
    "import nibabel as nib\n",
    "import matplotlib.pyplot as plt\n",
    "import numpy as np\n",
    "from skimage.measure import label \n",
    "import cv2 "
   ]
  },
  {
   "cell_type": "code",
   "execution_count": 155,
   "metadata": {},
   "outputs": [],
   "source": [
    "# input nii image from the prediction \n",
    "input_path = 'F:/Xiangping/498/osfstorage-archive/predTs/'\n",
    "image_name = 'reslice.nii.gz'\n",
    "input_image = nib.load(input_path + image_name)\n",
    "image_raw = input_image.get_fdata()"
   ]
  },
  {
   "cell_type": "code",
   "execution_count": 156,
   "metadata": {},
   "outputs": [],
   "source": [
    "# change the ordering of the data to fit cartesian coords\n",
    "# check the projections to alline Matlab code\n",
    "[xx, yy, zz] = input_image.shape\n",
    "CT = np.zeros((yy,xx,zz))\n",
    "for x in range(xx):\n",
    "    for y in range(yy):\n",
    "        for z in range(zz):\n",
    "            CT[y,x,z] = image_raw[x, y, z]\n",
    "# # create projections \n",
    "# YZproj = np.sum(CT, axis=0)\n",
    "# XZproj = np.sum(CT, axis=1)\n",
    "# XYproj = np.sum(CT, axis=2)\n",
    "# plt.imshow(YZproj, cmap='viridis', interpolation='nearest', aspect='auto')\n",
    "# plt.imshow(CT[200,:,:], cmap='gray')\n",
    "# plt.show()"
   ]
  },
  {
   "cell_type": "code",
   "execution_count": 157,
   "metadata": {},
   "outputs": [],
   "source": [
    "# for all the frame, find the frame with the largest predicted bone area \n",
    "[xx, yy, zz] = CT.shape \n",
    "area = []\n",
    "for z in range(zz):\n",
    "    area.append(np.sum(CT[:,:,z])) \n",
    "frame_area = max(area)\n",
    "frame = area.index(frame_area)"
   ]
  },
  {
   "cell_type": "code",
   "execution_count": 158,
   "metadata": {},
   "outputs": [],
   "source": [
    "# find the top two largest connected components, which are the two trackers \n",
    "image = CT[:,:,frame]\n",
    "\n",
    "def swap(a, b):\n",
    "    temp = a \n",
    "    a = b \n",
    "    b = temp \n",
    "    return a, b\n",
    "\n",
    "# return the center of mass of two trackers \n",
    "# number: the tracker number, process with 1 and 2, others will return the largestCC and secondCC\n",
    "def get_tracker(image, number):\n",
    "    labels = label(image)\n",
    "    largest = labels == np.argmax(np.bincount(labels.flat)[1:])+1   # tracker 1\n",
    "    CC = image.copy() - largest\n",
    "    labels = label(CC)\n",
    "    second = labels == np.argmax(np.bincount(labels.flat)[1:])+1    # tracker 2 \n",
    "    \n",
    "    # find the center of mass of two trackers \n",
    "    largest_massx = np.average(largest, axis=0).tolist()\n",
    "    largest_massy = np.average(largest, axis=1).tolist() \n",
    "    largest_x = largest_massx.index(max(largest_massx))\n",
    "    largest_y = largest_massy.index(max(largest_massy))\n",
    "    \n",
    "    second_massx = np.average(second, axis=0).tolist()\n",
    "    second_massy = np.average(second, axis=1).tolist() \n",
    "    second_x = second_massx.index(max(second_massx))\n",
    "    second_y = second_massy.index(max(second_massy))\n",
    "\n",
    "    # assume two trackers are in the top and bottom location, \n",
    "    # define the top tracker as the largest, the bottom one as second largest \n",
    "    if largest_y > second_y:\n",
    "        largest, second = swap(largest, second) \n",
    "        largest_x, second_x = swap(largest_x, second_x) \n",
    "        largest_y, second_y = swap(largest_y, second_y) \n",
    "\n",
    "    if number == 1:\n",
    "        return (largest_x, largest_y) \n",
    "    elif number == 2:\n",
    "        return (second_x, second_y)\n",
    "    else:\n",
    "        return largest+[1]-[1], second+[1]-[1]\n",
    "\n",
    "# return the images of both trackers: largest, second\n",
    "# the center of mass of both trackers: (largest_x, largest_y), (second_x, second_y) \n",
    "def get_all_information(image):\n",
    "    largest, second = get_tracker(image, 0)\n",
    "    largest_x, largest_y = get_tracker(image, 1)\n",
    "    second_x, second_y = get_tracker(image, 2)\n",
    "    return largest, second, largest_x, largest_y, second_x, second_y\n",
    "\n",
    "largest, second, largest_x, largest_y, second_x, second_y = get_all_information(image)\n",
    "bone_image = image - largest - second"
   ]
  },
  {
   "cell_type": "code",
   "execution_count": 159,
   "metadata": {},
   "outputs": [
    {
     "data": {
      "text/plain": [
       "<matplotlib.image.AxesImage at 0x284a1bc06c8>"
      ]
     },
     "execution_count": 159,
     "metadata": {},
     "output_type": "execute_result"
    },
    {
     "data": {
      "image/png": "[encoded data removed]",
      "text/plain": [
       "<Figure size 640x480 with 1 Axes>"
      ]
     },
     "metadata": {},
     "output_type": "display_data"
    }
   ],
   "source": [
    "plt.imshow(largest, cmap='gray')"
   ]
  },
  {
   "cell_type": "code",
   "execution_count": 160,
   "metadata": {},
   "outputs": [
    {
     "name": "stdout",
     "output_type": "stream",
     "text": [
      "get neighbor\n"
     ]
    }
   ],
   "source": [
    "# do the same thing for two neighbor frames to average the noise \n",
    "if (frame-2) > 0 and (frame+2) < CT.shape[2]-1:\n",
    "    print(\"get neighbor\")\n",
    "    left1 = CT[:,:,frame-1]\n",
    "    largest_left1, second_left1, largest_x_left1, largest_y_left1, second_x_left1, \\\n",
    "        second_y_left1 = get_all_information(left1)\n",
    "    left2 = CT[:,:,frame-2]\n",
    "    largest_left2, second_left2, largest_x_left2, largest_y_left2, second_x_left2, \\\n",
    "        second_y_left2 = get_all_information(left2)\n",
    "    right1 = CT[:,:,frame+1]\n",
    "    largest_right1, second_right1, largest_x_right1, largest_y_right1, second_x_right1, \\\n",
    "        second_y_right1 = get_all_information(right1)\n",
    "    right2 = CT[:,:,frame+2]\n",
    "    largest_right2, second_right2, largest_x_right2, largest_y_right2, second_x_right2, \\\n",
    "        second_y_right2 = get_all_information(right2)\n",
    "\n",
    "    largest_average = (largest + largest_left1 + largest_left2 + largest_right1 + \\\n",
    "                    largest_right2)/5\n",
    "    second_average = (second + second_left1 + second_left2 + second_right1 + \\\n",
    "                    second_right2)/5\n",
    "    largest_x_average = (largest_x + largest_x_left1 + largest_x_left2 + largest_x_right1 + \\\n",
    "                    largest_x_right2)/5\n",
    "    largest_y_average = (largest_y + largest_y_left1 + largest_y_left2 + largest_y_right1 + \\\n",
    "                    largest_y_right2)/5\n",
    "    second_x_average = (second_x + second_x_left1 + second_x_left2 + second_x_right1 + \\\n",
    "                    second_x_right2)/5\n",
    "    second_y_average = (second_y + second_y_left1 + second_y_left2 + second_y_right1 + \\\n",
    "                    second_y_right2)/5\n",
    "    image_average = (left1 + left2 + right1 + right2 + image)/5\n",
    "\n",
    "    bone_image = image_average - largest_average - second_average\n",
    "\n",
    "bone_image_copy = bone_image.copy()\n",
    "# plt.imshow(bone_image_copy, cmap='gray')"
   ]
  },
  {
   "cell_type": "code",
   "execution_count": 161,
   "metadata": {},
   "outputs": [
    {
     "data": {
      "text/plain": [
       "<matplotlib.image.AxesImage at 0x284a1c1c548>"
      ]
     },
     "execution_count": 161,
     "metadata": {},
     "output_type": "execute_result"
    },
    {
     "data": {
      "image/png": "[encoded data removed]",
      "text/plain": [
       "<Figure size 640x480 with 1 Axes>"
      ]
     },
     "metadata": {},
     "output_type": "display_data"
    }
   ],
   "source": [
    "# detect the outline of the bone \n",
    "bone_image = np.uint8(bone_image*255)\n",
    "\n",
    "# blur the image vertically to connect all the bones\n",
    "kernel = cv2.getStructuringElement(cv2.MORPH_ELLIPSE, (3,10))\n",
    "morph = cv2.morphologyEx(bone_image, cv2.MORPH_CLOSE, kernel)\n",
    "\n",
    "# edges = cv2.Canny(bone_image, 0, 1, apertureSize = 3)\n",
    "\n",
    "contours, hierarchy = cv2.findContours(morph, cv2.RETR_EXTERNAL, cv2.CHAIN_APPROX_NONE) \n",
    "\n",
    "# Filter out small contours (noise)\n",
    "contours = [cnt for cnt in contours if cv2.contourArea(cnt) > 1000]\n",
    "\n",
    "assert len(contours) == 2, \"Fail to detect large bone piece, \\\n",
    "    please change the blur kernel size and try again. \"\n",
    "# the second largest contour is the main bone as the small bone contain the bone area, \n",
    "# but the large bone should be only contain the outline, resulting in a small area \n",
    "bone_contour = contours[1]\n",
    "\n",
    "cv2.drawContours(bone_image_copy, bone_contour, -1, 255, 2)\n",
    "plt.imshow(bone_image_copy, cmap='gray')\n",
    "# kernel = cv2.getStructuringElement(cv2.MORPH_ELLIPSE, (10,2))\n",
    "# bone = cv2.morphologyEx(bone_image_copy, cv2.MORPH_OPEN, kernel)\n",
    "# plt.imshow(bone, cmap='gray')\n"
   ]
  },
  {
   "cell_type": "code",
   "execution_count": 162,
   "metadata": {},
   "outputs": [
    {
     "name": "stdout",
     "output_type": "stream",
     "text": [
      "27 121\n"
     ]
    },
    {
     "data": {
      "text/plain": [
       "<matplotlib.image.AxesImage at 0x284a1c599c8>"
      ]
     },
     "execution_count": 162,
     "metadata": {},
     "output_type": "execute_result"
    },
    {
     "data": {
      "image/png": "[encoded data removed]",
      "text/plain": [
       "<Figure size 640x480 with 1 Axes>"
      ]
     },
     "metadata": {},
     "output_type": "display_data"
    }
   ],
   "source": [
    "# find the line whose x axis is closest to the center of mass \n",
    "print(largest_y, second_y)  # track position, only keep nearby lines\n",
    "# need ball information \n",
    "\n",
    "boundary = 25\n",
    "largest_boundary = [largest_y-boundary, largest_y+boundary]\n",
    "second_boundary = [second_y-boundary, second_y+boundary]\n",
    "yy,xx = bone_image_copy.shape\n",
    "for y in range(yy):\n",
    "    if (y > largest_boundary[0] and y < largest_boundary[1]) or \\\n",
    "        (y > second_boundary[0] and y < second_boundary[1]):\n",
    "        continue\n",
    "    else: \n",
    "        bone_image_copy[y,:] = np.zeros(xx)\n",
    "bone_image_copy1 = bone_image_copy.copy()\n",
    "bone_image_copy1[bone_image_copy<200] = 0\n",
    "bone_image_copy1[bone_image_copy>=200] = 1\n",
    "bone_image_copy1 = bone_image_copy1.astype('uint8')\n",
    "\n",
    "plt.imshow(bone_image_copy, cmap='gray')\n",
    "    "
   ]
  },
  {
   "cell_type": "code",
   "execution_count": 163,
   "metadata": {},
   "outputs": [
    {
     "data": {
      "text/plain": [
       "<matplotlib.image.AxesImage at 0x284a1cd2348>"
      ]
     },
     "execution_count": 163,
     "metadata": {},
     "output_type": "execute_result"
    },
    {
     "data": {
      "image/png": "[encoded data removed]",
      "text/plain": [
       "<Figure size 640x480 with 1 Axes>"
      ]
     },
     "metadata": {},
     "output_type": "display_data"
    }
   ],
   "source": [
    "# find the center of mass of each line and pick the line whose y axis closest to the two tracks \n",
    "from skimage.transform import hough_line, hough_line_peaks\n",
    "\n",
    "hspace, angles, dists = hough_line(bone_image_copy1[0:yy//2,:])\n",
    "hspace, angles_top, dists_top = hough_line_peaks(hspace, angles, dists)\n",
    "hspace, angles, dists = hough_line(bone_image_copy1[yy//2:yy,:])\n",
    "hspace, angles_bot, dists_bot = hough_line_peaks(hspace, angles, dists)\n",
    "\n",
    "bone_image_copy = bone_image_copy1.copy()\n",
    "m = []\n",
    "\n",
    "def find_lines(angles, dists, bone_image_copy, position):\n",
    "    rho = dists[0]\n",
    "    theta = angles[0]\n",
    "    a = np.cos(theta)\n",
    "    b = np.sin(theta)\n",
    "    x0 = a * rho\n",
    "    y0 = b * rho + position\n",
    "    pt1 = (int(x0 + 1000*(-b)), int(y0 + 1000*(a)))\n",
    "    pt2 = (int(x0 - 1000*(-b)), int(y0 - 1000*(a)))\n",
    "    cv2.line(bone_image_copy, pt1, pt2, 2, 3, cv2.LINE_AA)\n",
    "    m.append(theta)\n",
    "\n",
    "find_lines(angles_top, dists_top, bone_image_copy, 0)\n",
    "find_lines(angles_bot, dists_bot, bone_image_copy, yy//2)\n",
    "\n",
    "plt.imshow(bone_image_copy, cmap='gray')"
   ]
  },
  {
   "cell_type": "code",
   "execution_count": 166,
   "metadata": {},
   "outputs": [
    {
     "name": "stdout",
     "output_type": "stream",
     "text": [
      "18.999999999999996\n"
     ]
    }
   ],
   "source": [
    "# plt.imshow(bone_image_copy1, cmap='gray')\n",
    "m2,m1 = m\n",
    "m1 = math.tan(m1)\n",
    "m2 = math.tan(m2)\n",
    "import math\n",
    "angle = math.atan((m2-m1)/(1+m1*m2))\n",
    "print(math.degrees(angle))"
   ]
  },
  {
   "cell_type": "code",
   "execution_count": 165,
   "metadata": {},
   "outputs": [
    {
     "name": "stdout",
     "output_type": "stream",
     "text": [
      "15.282924890518188\n"
     ]
    }
   ],
   "source": [
    "end = time.time()\n",
    "print(end-start)"
   ]
  }
 ],
 "metadata": {
  "kernelspec": {
   "display_name": "ese498",
   "language": "python",
   "name": "python3"
  },
  "language_info": {
   "codemirror_mode": {
    "name": "ipython",
    "version": 3
   },
   "file_extension": ".py",
   "mimetype": "text/x-python",
   "name": "python",
   "nbconvert_exporter": "python",
   "pygments_lexer": "ipython3",
   "version": "3.7.4"
  }
 },
 "nbformat": 4,
 "nbformat_minor": 2
}
